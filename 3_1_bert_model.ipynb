{
 "cells": [
  {
   "cell_type": "markdown",
   "metadata": {
    "colab_type": "text",
    "id": "view-in-github"
   },
   "source": [
    "<a href=\"https://colab.research.google.com/github/yukinaga/bert_nlp/blob/main/section_3/01_bert_model.ipynb\" target=\"_parent\"><img src=\"https://colab.research.google.com/assets/colab-badge.svg\" alt=\"Open In Colab\"/></a>"
   ]
  },
  {
   "cell_type": "markdown",
   "metadata": {
    "id": "KcHOX9LyZc2g"
   },
   "source": [
    "# BERTのモデル\n",
    "自然言語処理ライブラリPyTorch-Transformersを使って、BERTのモデルの実装を見ていきます。"
   ]
  },
  {
   "cell_type": "markdown",
   "metadata": {
    "id": "L_Ozfz3NhltP"
   },
   "source": [
    "## ライブラリのインストール\n",
    "PyTorch-Transformers、および必要なライブラリのインストールを行います。"
   ]
  },
  {
   "cell_type": "code",
   "execution_count": null,
   "metadata": {
    "id": "Y_mDYVlb-sqi"
   },
   "outputs": [],
   "source": [
    "!pip install folium==0.2.1\n",
    "!pip install urllib3==1.25.11\n",
    "!pip install pytorch-transformers==1.2.0"
   ]
  },
  {
   "cell_type": "markdown",
   "metadata": {
    "id": "nMfvi2uVkItT"
   },
   "source": [
    "## BERTのモデル\n",
    "PyTorch-Transformersには、様々な訓練済みのモデルを扱うクラスが用意されています。  \n",
    "今回は、最も基本的なモデルである`BertModel`の中身を確認します。"
   ]
  },
  {
   "cell_type": "code",
   "execution_count": null,
   "metadata": {
    "id": "E9Hv5L2HGDmI"
   },
   "outputs": [],
   "source": [
    "import torch\n",
    "from pytorch_transformers import BertModel\n",
    "\n",
    "bert_model = BertModel.from_pretrained('bert-base-uncased')  # 訓練済みパラメータの読み込み\n",
    "print(bert_model)"
   ]
  },
  {
   "cell_type": "markdown",
   "metadata": {
    "id": "rMlz4gJQucPB"
   },
   "source": [
    "# BERTの設定\n",
    "`BertConfig`クラスを使って、モデルの設定を確認しましょう。"
   ]
  },
  {
   "cell_type": "code",
   "execution_count": null,
   "metadata": {
    "id": "F54bOxW6uGBX"
   },
   "outputs": [],
   "source": [
    "from pytorch_transformers import BertConfig\n",
    "\n",
    "config = BertConfig.from_pretrained(\"bert-base-uncased\")\n",
    "print(config) "
   ]
  }
 ],
 "metadata": {
  "colab": {
   "authorship_tag": "ABX9TyP5YsuyBErivB7QlJcE8Oxe",
   "collapsed_sections": [],
   "include_colab_link": true,
   "name": "01_bert_model.ipynb",
   "provenance": []
  },
  "kernelspec": {
   "display_name": "Python 3 (ipykernel)",
   "language": "python",
   "name": "python3"
  },
  "language_info": {
   "codemirror_mode": {
    "name": "ipython",
    "version": 3
   },
   "file_extension": ".py",
   "mimetype": "text/x-python",
   "name": "python",
   "nbconvert_exporter": "python",
   "pygments_lexer": "ipython3",
   "version": "3.9.5"
  }
 },
 "nbformat": 4,
 "nbformat_minor": 4
}
